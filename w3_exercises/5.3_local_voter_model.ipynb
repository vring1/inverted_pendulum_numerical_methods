{
 "cells": [
  {
   "cell_type": "code",
   "execution_count": 1,
   "metadata": {},
   "outputs": [],
   "source": [
    "# Consider an American neighbourhood of N = 50 residents. Each resident\n",
    "# identifies as democratic (D) or republican (R).\n",
    "# The following four events can happen (with rates):\n",
    "\n",
    "# A democratic randomly becomes republican, rate = 0.1D\n",
    "# A republican randomly becomes democratic, rate = 0.1R\n",
    "# A republican convinces a democratic to become republican, rate = 0.01DR\n",
    "# A democratic convinces a republican to become democratic. rate = 0.01RD\n",
    "\n",
    "# a\n",
    "# Explain what the rates mean. Why are the ‘convincing‘ rates\n",
    "# proportional to D · R?\n",
    "\n"
   ]
  },
  {
   "cell_type": "code",
   "execution_count": null,
   "metadata": {},
   "outputs": [],
   "source": [
    "# b\n",
    "# Initialize a system with D = 25 and R = 25 and simulate the above\n",
    "# rate system using the Gillespie method for 500,000 steps.\n",
    "\n",
    "\n"
   ]
  }
 ],
 "metadata": {
  "kernelspec": {
   "display_name": "base",
   "language": "python",
   "name": "python3"
  },
  "language_info": {
   "codemirror_mode": {
    "name": "ipython",
    "version": 3
   },
   "file_extension": ".py",
   "mimetype": "text/x-python",
   "name": "python",
   "nbconvert_exporter": "python",
   "pygments_lexer": "ipython3",
   "version": "3.11.3"
  },
  "orig_nbformat": 4
 },
 "nbformat": 4,
 "nbformat_minor": 2
}
