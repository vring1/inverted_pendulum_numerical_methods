{
 "cells": [
  {
   "cell_type": "code",
   "execution_count": 1,
   "metadata": {},
   "outputs": [],
   "source": [
    "# Consider an American neighbourhood of N = 50 residents. Each resident\n",
    "# identifies as democratic (D) or republican (R).\n",
    "# The following four events can happen (with rates):\n",
    "# A democratic randomly becomes republican, rate = 0.1D\n",
    "# A republican randomly becomes democratic, rate = 0.1R\n",
    "# A republican convinces a democratic to become republican, rate = 0.01DR\n",
    "# A democratic convinces a republican to become democratic. rate = 0.01RD\n",
    "\n",
    "# a\n",
    "# Explain what the rates mean. Why are the ‘convincing‘ rates\n",
    "# proportional to D · R?\n",
    "\n",
    "\n",
    "\n",
    "\n"
   ]
  },
  {
   "cell_type": "code",
   "execution_count": 3,
   "metadata": {},
   "outputs": [],
   "source": [
    "# b\n",
    "# Initialize a system with D = 25 and R = 25 and simulate the above\n",
    "# rate system using the Gillespie method for 500,000 steps.\n",
    "\n",
    "\n"
   ]
  },
  {
   "cell_type": "code",
   "execution_count": 4,
   "metadata": {},
   "outputs": [],
   "source": [
    "# c\n",
    "# Plot D and R as a function of time and discuss the result.\n",
    "\n",
    "\n"
   ]
  },
  {
   "cell_type": "code",
   "execution_count": 5,
   "metadata": {},
   "outputs": [],
   "source": [
    "# We now introduce a third type of resident: undecided (U). The rules\n",
    "# are then updated such that when someone is convinced to leave their\n",
    "# party, they become undecided, and thus needs to be convinced twice to be\n",
    "# converted to the other party. The random rates are thus\n",
    "\n",
    "# A democratic randomly becomes undecided, rate = 0.1D\n",
    "# A republican randomly becomes undecided, rate = 0.1R\n",
    "# An undecided randomly becomes democratic, rate = 0.05U\n",
    "# An undecided randomly becomes republican, rate = 0.05U\n",
    "\n",
    "# and the convincing rates\n",
    "\n",
    "# A republican convinces a democratic to become undecided, rate = 0.01DR\n",
    "# A republican convinces an undecided to become republican, rate = 0.01UR\n",
    "# A democratic convinces a republican to become undecided, rate = 0.01RD\n",
    "# A democratic convinces an undecided to become democratic. rate = 0.01UD\n",
    "\n",
    "\n",
    "# Initialize a system with R = 0, U = 50 and D = 0 and simulate the\n",
    "# above rate system using the Gillespie method for 500,000 steps\n",
    "\n",
    "# d\n",
    "\n",
    "\n",
    "\n"
   ]
  },
  {
   "cell_type": "code",
   "execution_count": null,
   "metadata": {},
   "outputs": [],
   "source": [
    "# Plot R and D as a function of time and discuss the result\n",
    "\n",
    "# e"
   ]
  }
 ],
 "metadata": {
  "kernelspec": {
   "display_name": "base",
   "language": "python",
   "name": "python3"
  },
  "language_info": {
   "codemirror_mode": {
    "name": "ipython",
    "version": 3
   },
   "file_extension": ".py",
   "mimetype": "text/x-python",
   "name": "python",
   "nbconvert_exporter": "python",
   "pygments_lexer": "ipython3",
   "version": "3.11.3"
  },
  "orig_nbformat": 4
 },
 "nbformat": 4,
 "nbformat_minor": 2
}
