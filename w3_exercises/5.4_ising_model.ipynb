{
 "cells": [
  {
   "cell_type": "code",
   "execution_count": 1,
   "metadata": {},
   "outputs": [],
   "source": [
    "# The Ising model is a simple model for ferromagnetism. Atoms with spin\n",
    "# S ∈ {−1, 1} are given fixed locations and their spin interactions are limited\n",
    "# to nearest neighbours. The total energy (Hamiltonian) of the system is therefore\n",
    "\n",
    "# H = -sum_<i,j> (S_i * S_j)\n",
    "\n",
    "# where <i,j> denotes neighbouring sites such that each interaction is only\n",
    "# counted once.\n",
    "# In two dimensions, the simplest Ising model looks like\n",
    "\n",
    "# s11 s21 s31 s41\n",
    "# s12 s22 s32 s42\n",
    "# s13 s23 s33 s43\n",
    "# s14 s24 s34 s44\n",
    "\n",
    "# where, for instance, the neighbours of s22 are s21, s12, s32, s23.\n",
    "\n",
    "# Make a function that takes an N × N matrix S and calculates H\n",
    "# assuming a periodic system.\n",
    "\n",
    "# a\n"
   ]
  },
  {
   "cell_type": "code",
   "execution_count": 2,
   "metadata": {},
   "outputs": [],
   "source": [
    "# In the lowest possible energy state all spins are aligned, i.e. they all equal\n",
    "# 1 or −1, which corresponds to full magnetisation. However, fluctuations\n",
    "# at finite temperatures will drive the system away from this minimum.\n",
    "# The likelihood of a given spin configuration is given by the Boltzmann\n",
    "# distribution\n",
    "\n",
    "# p(S) = (e^(-H/T))/Z\n",
    "\n",
    "# where T is the temperature and Z is the partition function. The magneti-\n",
    "# sation of a specific spin configuration is simply\n",
    "\n",
    "# m(S) = <S_i>\n",
    "\n",
    "# Make a function that calculates the magnetisation.\n",
    "\n",
    "# b\n",
    "\n",
    "\n",
    "\n",
    "\n"
   ]
  },
  {
   "cell_type": "code",
   "execution_count": 3,
   "metadata": {},
   "outputs": [],
   "source": [
    "# We shall be interested in the time-averaged magnetisation as a function\n",
    "# temperature T. We will use the Metropolis–Hastings algorithm to simulate\n",
    "# the time evolution of the system.\n",
    "\n",
    "# Make a function that calculates the change in energy ΔE from a\n",
    "# spin flip at a given location i.\n",
    "\n",
    "# c\n",
    "\n"
   ]
  },
  {
   "cell_type": "code",
   "execution_count": 4,
   "metadata": {},
   "outputs": [],
   "source": [
    "# Make a function that randomly accepts or rejects a spin flip based\n",
    "# on ΔE with probability a = min(1, e^(−ΔE/T)).\n",
    "\n",
    "# d\n"
   ]
  },
  {
   "cell_type": "code",
   "execution_count": 5,
   "metadata": {},
   "outputs": [],
   "source": [
    "# To take a Metropolis–Hastings step, a random random spin is chosen\n",
    "# and flipped according to the above rule.\n",
    "\n",
    "# Start with a random initialisation of S with N ≥ 5 depending on\n",
    "# the speed of your code (N = 1000 should be possible with numba). Let\n",
    "# the system run for 1000 N^2 time steps to equilibrium the system. Plot the\n",
    "# spin configuration (plt.imshow with interpolation=’nearest’) at\n",
    "# different times during the simulation. Comment on the result.\n",
    "\n",
    "\n",
    "# e\n"
   ]
  },
  {
   "cell_type": "code",
   "execution_count": 6,
   "metadata": {},
   "outputs": [],
   "source": [
    "# After initialisation let the system evolve another 1000 N^2 time\n",
    "# steps, and store at each 100th time step the energy and the mag-\n",
    "# netisation. Do this for temperatures between 0.1 and 5.0 (e.g.\n",
    "# np.linspace(0.1, 5.0, 100)) and plot the average absolute mag-\n",
    "# netisation as a function of temperature.\n",
    "\n",
    "# f"
   ]
  },
  {
   "cell_type": "code",
   "execution_count": null,
   "metadata": {},
   "outputs": [],
   "source": [
    "# You should find that the system spontaneously magnetises at low temper-\n",
    "# ature. In particular, there is a phase transition at a critical temperature T_c\n",
    "# below which the material is ferromagnetic.\n",
    "\n",
    "# Determine T_c as best you can. What ways could you improve your\n",
    "# estimate?\n",
    "\n",
    "# g"
   ]
  }
 ],
 "metadata": {
  "kernelspec": {
   "display_name": "base",
   "language": "python",
   "name": "python3"
  },
  "language_info": {
   "codemirror_mode": {
    "name": "ipython",
    "version": 3
   },
   "file_extension": ".py",
   "mimetype": "text/x-python",
   "name": "python",
   "nbconvert_exporter": "python",
   "pygments_lexer": "ipython3",
   "version": "3.11.3"
  },
  "orig_nbformat": 4
 },
 "nbformat": 4,
 "nbformat_minor": 2
}
