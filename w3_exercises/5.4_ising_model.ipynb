{
 "cells": [
  {
   "cell_type": "code",
   "execution_count": 26,
   "metadata": {},
   "outputs": [
    {
     "name": "stdout",
     "output_type": "stream",
     "text": [
      "[[ 1  1  1  1]\n",
      " [-1 -1  1  1]\n",
      " [ 1  1  1  1]\n",
      " [ 1 -1  1 -1]]\n",
      "H: -8\n"
     ]
    }
   ],
   "source": [
    "# The Ising model is a simple model for ferromagnetism. Atoms with spin\n",
    "# S ∈ {−1, 1} are given fixed locations and their spin interactions are limited\n",
    "# to nearest neighbours. The total energy (Hamiltonian) of the system is therefore\n",
    "\n",
    "# H = -sum_<i,j> (S_iS_j)\n",
    "\n",
    "# where <i,j> denotes neighbouring sites such that each interaction is only\n",
    "# counted once.\n",
    "# In two dimensions, the simplest Ising model looks like\n",
    "\n",
    "# s11 s21 s31 s41\n",
    "# s12 s22 s32 s42\n",
    "# s13 s23 s33 s43\n",
    "# s14 s24 s34 s44\n",
    "\n",
    "# where, for instance, the neighbours of s22 are s21, s12, s32, s23.\n",
    "\n",
    "# Make a function that takes an N × N matrix S and calculates H\n",
    "# assuming a periodic system.\n",
    "\n",
    "# a\n",
    "import numpy as np\n",
    "from numba import njit, jit\n",
    "\n",
    "def calculate_H(S):\n",
    "    N = len(S)\n",
    "    H = 0\n",
    "    \n",
    "    for i in range(N):\n",
    "        for j in range(N):\n",
    "            neighbor_sum = (\n",
    "                S[i][(j + 1 ) % N] +  # right\n",
    "                S[i][(j - 1 ) % N] +  # left\n",
    "                S[(i + 1 ) % N][j] +  # bottom\n",
    "                S[(i - 1 ) % N][j]  # top\n",
    "            )\n",
    "            H += -S[i][j] * neighbor_sum\n",
    "    \n",
    "    return H\n",
    "\n",
    "S = 2*np.random.randint(0, 2, (4,4))-1\n",
    "\n",
    "print(S)\n",
    "\n",
    "H = calculate_H(S)\n",
    "print(\"H:\", H)\n"
   ]
  },
  {
   "cell_type": "code",
   "execution_count": 27,
   "metadata": {},
   "outputs": [
    {
     "name": "stdout",
     "output_type": "stream",
     "text": [
      "Magnetization:  0.5\n"
     ]
    }
   ],
   "source": [
    "# In the lowest possible energy state all spins are aligned, i.e. they all equal\n",
    "# 1 or −1, which corresponds to full magnetisation. However, fluctuations\n",
    "# at finite temperatures will drive the system away from this minimum.\n",
    "# The likelihood of a given spin configuration is given by the Boltzmann\n",
    "# distribution\n",
    "\n",
    "# p(S) = (e^(-H/T))/Z\n",
    "\n",
    "# where T is the temperature and Z is the partition function. The magneti-\n",
    "# sation of a specific spin configuration is simply\n",
    "\n",
    "# m(S) = <S_i>\n",
    "\n",
    "# Make a function that calculates the magnetisation.\n",
    "\n",
    "# b\n",
    "@njit\n",
    "def calculate_magnetization(S):\n",
    "    return np.mean(S)\n",
    "\n",
    "magnetization = calculate_magnetization(S)\n",
    "print(\"Magnetization: \",magnetization)"
   ]
  },
  {
   "cell_type": "code",
   "execution_count": 28,
   "metadata": {},
   "outputs": [
    {
     "name": "stdout",
     "output_type": "stream",
     "text": [
      "Change in energy: 8\n"
     ]
    }
   ],
   "source": [
    "# We shall be interested in the time-averaged magnetisation as a function\n",
    "# temperature T. We will use the Metropolis–Hastings algorithm to simulate\n",
    "# the time evolution of the system.\n",
    "\n",
    "# Make a function that calculates the change in energy ΔE from a\n",
    "# spin flip at a given location i.\n",
    "\n",
    "# c\n",
    "@njit\n",
    "def calculate_delta_energy(S, i, j):\n",
    "    N = len(S)\n",
    "    neighbor_sum = (\n",
    "        S[i, (j + 1) % N]\n",
    "        + S[(i + 1) % N, j]\n",
    "        + S[i, (j - 1) % N]\n",
    "        + S[(i - 1) % N, j]\n",
    "    )\n",
    "    delta_energy = 2 * S[i, j] * neighbor_sum\n",
    "    return delta_energy\n",
    "\n",
    "i = 2\n",
    "j = 2\n",
    "\n",
    "de = calculate_delta_energy(S,i,j)\n",
    "\n",
    "print(\"Change in energy:\", de)\n"
   ]
  },
  {
   "cell_type": "code",
   "execution_count": 29,
   "metadata": {},
   "outputs": [
    {
     "name": "stdout",
     "output_type": "stream",
     "text": [
      "Rejected\n"
     ]
    }
   ],
   "source": [
    "# Make a function that randomly accepts or rejects a spin flip based\n",
    "# on ΔE with probability a = min(1, e^(−ΔE/T)).\n",
    "\n",
    "# d\n",
    "@njit\n",
    "def accept_spin_flip(de, temperature):\n",
    "    prob_a = min(1, np.exp(-de / temperature))\n",
    "    rnd = np.random.rand()\n",
    "    return np.random.rand() < prob_a\n",
    "\n",
    "de = 5\n",
    "temperature = 5\n",
    "\n",
    "\n",
    "if accept_spin_flip(de,temperature):\n",
    "    print(\"Accepted\")\n",
    "else:\n",
    "    print(\"Rejected\")\n"
   ]
  },
  {
   "cell_type": "code",
   "execution_count": 31,
   "metadata": {},
   "outputs": [
    {
     "data": {
      "image/png": "[encoded data removed]",
      "text/plain": [
       "<Figure size 640x480 with 1 Axes>"
      ]
     },
     "metadata": {},
     "output_type": "display_data"
    },
    {
     "ename": "KeyboardInterrupt",
     "evalue": "",
     "output_type": "error",
     "traceback": [
      "\u001b[0;31m---------------------------------------------------------------------------\u001b[0m",
      "\u001b[0;31mKeyboardInterrupt\u001b[0m                         Traceback (most recent call last)",
      "Cell \u001b[0;32mIn[31], line 41\u001b[0m\n\u001b[1;32m     38\u001b[0m temperature \u001b[39m=\u001b[39m \u001b[39m2.0\u001b[39m\n\u001b[1;32m     39\u001b[0m N \u001b[39m=\u001b[39m \u001b[39m1000\u001b[39m\n\u001b[0;32m---> 41\u001b[0m simulate_ising_model(N,temperature)\n",
      "Cell \u001b[0;32mIn[31], line 24\u001b[0m, in \u001b[0;36msimulate_ising_model\u001b[0;34m(N, temperature)\u001b[0m\n\u001b[1;32m     21\u001b[0m equilibrium_steps \u001b[39m=\u001b[39m \u001b[39m1000\u001b[39m \u001b[39m*\u001b[39m N\u001b[39m*\u001b[39m\u001b[39m*\u001b[39m\u001b[39m2\u001b[39m\n\u001b[1;32m     23\u001b[0m \u001b[39mfor\u001b[39;00m step \u001b[39min\u001b[39;00m \u001b[39mrange\u001b[39m(equilibrium_steps):\n\u001b[0;32m---> 24\u001b[0m     i, j \u001b[39m=\u001b[39m np\u001b[39m.\u001b[39mrandom\u001b[39m.\u001b[39mrandint(size), np\u001b[39m.\u001b[39mrandom\u001b[39m.\u001b[39mrandint(size)\n\u001b[1;32m     26\u001b[0m     delta_energy \u001b[39m=\u001b[39m calculate_delta_energy(S, i, j)\n\u001b[1;32m     27\u001b[0m     \u001b[39mif\u001b[39;00m accept_spin_flip(delta_energy, temperature):\n",
      "\u001b[0;31mKeyboardInterrupt\u001b[0m: "
     ]
    }
   ],
   "source": [
    "# To take a Metropolis–Hastings step, a random random spin is chosen\n",
    "# and flipped according to the above rule.\n",
    "\n",
    "# Start with a random initialisation of S with N ≥ 5 depending on\n",
    "# the speed of your code (N = 1000 should be possible with numba). Let\n",
    "# the system run for 1000 N^2 time steps to equilibrium the system. Plot the\n",
    "# spin configuration (plt.imshow with interpolation=’nearest’) at\n",
    "# different times during the simulation. Comment on the result.\n",
    "\n",
    "# e\n",
    "import numpy as np\n",
    "import matplotlib.pyplot as plt\n",
    "size = 20\n",
    "\n",
    "#@njit\n",
    "def simulate_ising_model(N, temperature):\n",
    "    #im_array = np.zeros(4)\n",
    "    #index = 0\n",
    "    S = 2*np.random.randint(0, 2, (size,size))-1\n",
    "\n",
    "    equilibrium_steps = 1000 * N**2\n",
    "\n",
    "    for step in range(equilibrium_steps):\n",
    "        i, j = np.random.randint(size), np.random.randint(size)\n",
    "\n",
    "        delta_energy = calculate_delta_energy(S, i, j)\n",
    "        if accept_spin_flip(delta_energy, temperature):\n",
    "            S[i, j] *= -1\n",
    "\n",
    "        if step % (equilibrium_steps / 4) == 0:\n",
    "            plt.imshow(S, interpolation='nearest')\n",
    "            plt.show()\n",
    "            #im_array[index] = S\n",
    "            #index+=1\n",
    "\n",
    "    #return im_array\n",
    "\n",
    "temperature = 2.0\n",
    "N = 1000\n",
    "\n",
    "simulate_ising_model(N,temperature)\n",
    "\n",
    "\n"
   ]
  },
  {
   "cell_type": "code",
   "execution_count": null,
   "metadata": {},
   "outputs": [],
   "source": [
    "# After initialisation let the system evolve another 1000 N^2 time\n",
    "# steps, and store at each 100th time step the energy and the mag-\n",
    "# netisation. Do this for temperatures between 0.1 and 5.0 (e.g.\n",
    "# np.linspace(0.1, 5.0, 100)) and plot the average absolute mag-\n",
    "# netisation as a function of temperature.\n",
    "\n",
    "# f\n",
    "\n",
    "\n",
    "\n",
    "\n"
   ]
  }
 ],
 "metadata": {
  "kernelspec": {
   "display_name": "base",
   "language": "python",
   "name": "python3"
  },
  "language_info": {
   "codemirror_mode": {
    "name": "ipython",
    "version": 3
   },
   "file_extension": ".py",
   "mimetype": "text/x-python",
   "name": "python",
   "nbconvert_exporter": "python",
   "pygments_lexer": "ipython3",
   "version": "3.11.3"
  },
  "orig_nbformat": 4
 },
 "nbformat": 4,
 "nbformat_minor": 2
}
