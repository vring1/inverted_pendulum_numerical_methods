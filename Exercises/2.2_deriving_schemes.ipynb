{
 "cells": [
  {
   "cell_type": "code",
   "execution_count": null,
   "metadata": {},
   "outputs": [],
   "source": [
    "# d = 1. dvs d! = 1.\n",
    "# facit er : [0, 1, 0, 0, 0] (måske. det er i hvert fald når lilledalte_x = 1, det er 1 ellers 0)\n",
    "\n"
   ]
  }
 ],
 "metadata": {
  "language_info": {
   "name": "python"
  },
  "orig_nbformat": 4
 },
 "nbformat": 4,
 "nbformat_minor": 2
}
