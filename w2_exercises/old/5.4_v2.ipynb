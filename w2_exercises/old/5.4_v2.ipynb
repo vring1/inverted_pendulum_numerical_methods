{
 "cells": [
  {
   "cell_type": "code",
   "execution_count": 34,
   "metadata": {},
   "outputs": [
    {
     "name": "stdout",
     "output_type": "stream",
     "text": [
      "Total energy: 64.0\n"
     ]
    }
   ],
   "source": [
    "def calculate_ising_energy(S):\n",
    "    N = len(S)\n",
    "    energy = 0.0\n",
    "    \n",
    "    for i in range(N):\n",
    "        for j in range(N):\n",
    "            # Calculate interactions with nearest neighbors\n",
    "            neighbor_sum = (\n",
    "                S[i][(j + 1) % N] +  # Right neighbor\n",
    "                S[(i + 1) % N][j] +  # Bottom neighbor\n",
    "                S[i][(j - 1) % N] +  # Left neighbor\n",
    "                S[(i - 1) % N][j]    # Top neighbor\n",
    "            )\n",
    "            energy -= S[i][j] * neighbor_sum\n",
    "    \n",
    "    return energy\n",
    "S = [\n",
    "    [1, -1, 1, -1],\n",
    "    [-1, 1, -1, 1],\n",
    "    [1, -1, 1, -1],\n",
    "    [-1, 1, -1, 1]\n",
    "]\n",
    "\n",
    "energy = calculate_ising_energy(S)\n",
    "print(\"Total energy:\", energy)\n"
   ]
  },
  {
   "cell_type": "code",
   "execution_count": 35,
   "metadata": {},
   "outputs": [
    {
     "name": "stdout",
     "output_type": "stream",
     "text": [
      "Magnetization: 0.9640275800758168\n"
     ]
    }
   ],
   "source": [
    "import numpy as np\n",
    "\n",
    "def calculate_magnetization(S, temperature):\n",
    "    N = len(S)\n",
    "    partition_function = 0.0\n",
    "    magnetization = 0.0\n",
    "    \n",
    "    for i in range(N):\n",
    "        for j in range(N):\n",
    "            # Calculate interactions with nearest neighbors\n",
    "            neighbor_sum = (\n",
    "                S[i][(j + 1) % N] +  # Right neighbor\n",
    "                S[(i + 1) % N][j] +  # Bottom neighbor\n",
    "                S[i][(j - 1) % N] +  # Left neighbor\n",
    "                S[(i - 1) % N][j]    # Top neighbor\n",
    "            )\n",
    "            \n",
    "            # Calculate Boltzmann weight and update partition function\n",
    "            boltzmann = np.exp(-neighbor_sum / temperature)\n",
    "            partition_function += boltzmann\n",
    "            \n",
    "            # Update magnetization\n",
    "            magnetization += S[i][j] * boltzmann\n",
    "    \n",
    "    magnetization /= partition_function\n",
    "    \n",
    "    return magnetization\n",
    "S = [\n",
    "    [1, -1, 1, -1],\n",
    "    [-1, 1, -1, 1],\n",
    "    [1, -1, 1, -1],\n",
    "    [-1, 1, -1, 1]\n",
    "]\n",
    "temperature = 2.0\n",
    "\n",
    "magnetization = calculate_magnetization(S, temperature)\n",
    "print(\"Magnetization:\", magnetization)\n"
   ]
  },
  {
   "cell_type": "code",
   "execution_count": 36,
   "metadata": {},
   "outputs": [
    {
     "name": "stdout",
     "output_type": "stream",
     "text": [
      "Change in energy (ΔE): 16\n"
     ]
    }
   ],
   "source": [
    "def calculate_energy_change(S, i, j):\n",
    "    N = len(S)\n",
    "    \n",
    "    # Calculate interactions with nearest neighbors before and after the flip\n",
    "    neighbor_sum_before = (\n",
    "        S[i][(j + 1) % N] +  # Right neighbor\n",
    "        S[(i + 1) % N][j] +  # Bottom neighbor\n",
    "        S[i][(j - 1) % N] +  # Left neighbor\n",
    "        S[(i - 1) % N][j]    # Top neighbor\n",
    "    )\n",
    "    \n",
    "    neighbor_sum_after = (\n",
    "        -S[i][(j + 1) % N] +  # Right neighbor\n",
    "        -S[(i + 1) % N][j] +  # Bottom neighbor\n",
    "        -S[i][(j - 1) % N] +  # Left neighbor\n",
    "        -S[(i - 1) % N][j]    # Top neighbor\n",
    "    )\n",
    "    \n",
    "    # Calculate change in energy (ΔE)\n",
    "    delta_energy = 2 * S[i][j] * (neighbor_sum_after - neighbor_sum_before)\n",
    "    \n",
    "    return delta_energy\n",
    "S = [\n",
    "    [1, -1, 1, -1],\n",
    "    [-1, 1, -1, 1],\n",
    "    [1, -1, 1, -1],\n",
    "    [-1, 1, -1, 1]\n",
    "]\n",
    "i = 1\n",
    "j = 1\n",
    "\n",
    "delta_energy = calculate_energy_change(S, i, j)\n",
    "print(\"Change in energy (ΔE):\", delta_energy)\n",
    "\n"
   ]
  },
  {
   "cell_type": "code",
   "execution_count": 37,
   "metadata": {},
   "outputs": [
    {
     "name": "stdout",
     "output_type": "stream",
     "text": [
      "Spin flip accepted: False\n"
     ]
    }
   ],
   "source": [
    "import numpy as np\n",
    "\n",
    "def metropolis_hastings_acceptance(delta_energy, temperature):\n",
    "    \"\"\"\n",
    "    Decide whether to accept or reject a spin flip based on ΔE and temperature.\n",
    "\n",
    "    Parameters:\n",
    "        delta_energy (float): Change in energy (ΔE) from the spin flip.\n",
    "        temperature (float): Temperature of the system.\n",
    "\n",
    "    Returns:\n",
    "        bool: True if the spin flip is accepted, False otherwise.\n",
    "    \"\"\"\n",
    "    if delta_energy < 0:\n",
    "        return True\n",
    "    else:\n",
    "        probability = np.exp(-delta_energy / temperature)\n",
    "        random_number = np.random.rand()\n",
    "        return random_number < probability\n",
    "delta_energy = 4.0\n",
    "temperature = 2.0\n",
    "\n",
    "accepted = metropolis_hastings_acceptance(delta_energy, temperature)\n",
    "print(\"Spin flip accepted:\", accepted)\n"
   ]
  },
  {
   "cell_type": "code",
   "execution_count": null,
   "metadata": {},
   "outputs": [],
   "source": []
  },
  {
   "cell_type": "code",
   "execution_count": null,
   "metadata": {},
   "outputs": [],
   "source": []
  }
 ],
 "metadata": {
  "kernelspec": {
   "display_name": "base",
   "language": "python",
   "name": "python3"
  },
  "language_info": {
   "codemirror_mode": {
    "name": "ipython",
    "version": 3
   },
   "file_extension": ".py",
   "mimetype": "text/x-python",
   "name": "python",
   "nbconvert_exporter": "python",
   "pygments_lexer": "ipython3",
   "version": "3.11.3"
  },
  "orig_nbformat": 4
 },
 "nbformat": 4,
 "nbformat_minor": 2
}
