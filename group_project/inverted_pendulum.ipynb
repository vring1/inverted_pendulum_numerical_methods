{
 "cells": [
  {
   "cell_type": "markdown",
   "metadata": {},
   "source": [
    "An inverted pendulum is a pendulum that sits on a cart, which can be moved with a force. It follows the following equations of motion\n",
    "\n",
    "$$(M+m)\\ddot{x} - m\\ell\\ddot{\\theta} \\cos \\theta + m\\ell\\dot{\\theta}^2 \\sin \\theta = F,$$\n",
    "$$\\ell \\ddot{\\theta} - g \\sin \\theta = \\ddot{x} \\cos \\theta$$\n",
    "\n",
    "Here $x$ is the position of the cart, $\\theta$ is the angle of the pendulum, $\\ell$ is the length of the pendulum, and $M$, $m$ are the mass of the cart and the pendulum, respectively.\n",
    "\n",
    "Finally, is the force applied to the cart, this force can be time-dependent.\n",
    "\n",
    "1. Write an accurate simulation of the above system to solve for $x(t)$ and $\\theta(t)$ and make a nice visualization of the simulation.\n",
    "2. By applying a time-varying force that depends on the state parameters, e.g. $F(x(t),\\dot{x}(t),\\theta(t),\\dot{\\theta}(t))$, can you balance the pendulum upright (assuming it starts upright). It could make sense to consider requirements on $x$ as well to ensure the pendulum stays within a reasonable position.\n",
    "3. Play with the parameters, is it easier to balance a long pendulum? A heavy one? How do you measure this?\n",
    "4. If the pendulum starts hanging, can you get it upright by the applying the correct force? Can you do in a way so it works for all lengths and masses?\n",
    "\n",
    "Finally, if you have time, expand your simulation to a double pendulum and go through the above questions again."
   ]
  },
  {
   "cell_type": "code",
   "execution_count": null,
   "metadata": {},
   "outputs": [],
   "source": []
  }
 ],
 "metadata": {
  "kernelspec": {
   "display_name": "base",
   "language": "python",
   "name": "python3"
  },
  "language_info": {
   "codemirror_mode": {
    "name": "ipython",
    "version": 3
   },
   "file_extension": ".py",
   "mimetype": "text/x-python",
   "name": "python",
   "nbconvert_exporter": "python",
   "pygments_lexer": "ipython3",
   "version": "3.11.3"
  },
  "orig_nbformat": 4
 },
 "nbformat": 4,
 "nbformat_minor": 2
}
